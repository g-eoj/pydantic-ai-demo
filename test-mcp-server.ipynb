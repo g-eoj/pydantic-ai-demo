{
 "cells": [
  {
   "cell_type": "code",
   "execution_count": 1,
   "id": "57fdc27b-1937-42ed-b52c-a7ff0387db1a",
   "metadata": {},
   "outputs": [],
   "source": [
    "import nest_asyncio\n",
    "\n",
    "nest_asyncio.apply()"
   ]
  },
  {
   "cell_type": "code",
   "execution_count": 2,
   "id": "536391e4-6516-40a4-9484-cea353960cf2",
   "metadata": {
    "scrolled": true
   },
   "outputs": [],
   "source": [
    "import os\n",
    "\n",
    "from pydantic_ai.mcp import MCPServerStdio"
   ]
  },
  {
   "cell_type": "code",
   "execution_count": 3,
   "id": "4188d0df-35e0-4f80-b67e-dbcee5e65ccd",
   "metadata": {
    "scrolled": true
   },
   "outputs": [],
   "source": [
    "web_access_server = MCPServerStdio(  \n",
    "    'uv',\n",
    "    args=[\n",
    "        'run',\n",
    "        'mcp',\n",
    "        'run',\n",
    "        '-t',\n",
    "        'stdio',\n",
    "        'web_access_mcp_server.py',\n",
    "    ],\n",
    "    env={\n",
    "        \"SERPER_API_TOKEN\": os.getenv(\"SERPER_API_TOKEN\"),\n",
    "        \"LLM_API_KEY\": os.getenv(\"VLLM_API_KEY\", \"\"),\n",
    "    }\n",
    ")"
   ]
  },
  {
   "cell_type": "code",
   "execution_count": 4,
   "id": "ae899592-d1d9-4203-9916-5e4d85e63c48",
   "metadata": {},
   "outputs": [
    {
     "data": {
      "text/plain": [
       "[Tool(name='search', title='Search', description='Search the web for links.', inputSchema={'properties': {'query': {'title': 'Query', 'type': 'string'}}, 'required': ['query'], 'title': 'searchArguments', 'type': 'object'}, outputSchema={'properties': {'result': {'title': 'Result', 'type': 'string'}}, 'required': ['result'], 'title': 'searchOutput', 'type': 'object'}, annotations=None, meta=None),\n",
       " Tool(name='search_papers', title='Search Papers', description='Search the web for papers.', inputSchema={'properties': {'query': {'title': 'Query', 'type': 'string'}}, 'required': ['query'], 'title': 'search_papersArguments', 'type': 'object'}, outputSchema={'properties': {'result': {'title': 'Result', 'type': 'string'}}, 'required': ['result'], 'title': 'search_papersOutput', 'type': 'object'}, annotations=None, meta=None),\n",
       " Tool(name='read', title='Read', description='Converts a web page or PDF to markdown, then answers your query about the markdown content.', inputSchema={'properties': {'query': {'title': 'Query', 'type': 'string'}, 'url': {'title': 'Url', 'type': 'string'}}, 'required': ['query', 'url'], 'title': 'readArguments', 'type': 'object'}, outputSchema={'properties': {'text': {'anyOf': [{'type': 'string'}, {'type': 'null'}], 'title': 'Text'}, 'is_relevant': {'title': 'Is Relevant', 'type': 'boolean'}}, 'required': ['text', 'is_relevant'], 'title': 'Note', 'type': 'object'}, annotations=None, meta=None)]"
      ]
     },
     "execution_count": 4,
     "metadata": {},
     "output_type": "execute_result"
    }
   ],
   "source": [
    "await web_access_server.list_tools()"
   ]
  },
  {
   "cell_type": "code",
   "execution_count": 5,
   "id": "7a0713c1-2754-434d-8e06-8a15b846c075",
   "metadata": {},
   "outputs": [
    {
     "data": {
      "text/plain": [
       "'\\n- [Cat - Wikipedia](https://en.wikipedia.org/wiki/Cat)\\n\\tSnippet: The cat (Felis catus), also referred to as the domestic cat or house cat, is a small domesticated carnivorous mammal. It is the only domesticated species of ...\\n- [Cat | Breeds, Origins, History, Body Types, Senses ... - Britannica](https://www.britannica.com/animal/cat)\\n\\tSnippet: Cats are highly specialized and adaptable carnivorous mammals. They are digitigrade, meaning that they walk on their toes, which is one of the ...\\n- [Facts you need to know about domestic cats | IFAW](https://www.ifaw.org/animals/cats)\\n\\tSnippet: House cats are the smallest feline family members, but otherwise they share many characteristics with their larger, wild relatives.\\n- [The Natural History of Domestic Cats | Alley Cat Allies](https://www.alleycat.org/resources/the-natural-history-of-the-cat/)\\n\\tSnippet: Pet, stray, and feral cats (stray and feral cats are community cats) are all this same species, which we call the domestic cat. 1.\\n- [Cat - Simple English Wikipedia, the free encyclopedia](https://simple.wikipedia.org/wiki/Cat)\\n\\tSnippet: Cats, also called domestic cats (Felis catus), are small, carnivorous (meat eating) mammals, of the family Felidae. Cats have been domesticated (tamed) for ...\\n'"
      ]
     },
     "execution_count": 5,
     "metadata": {},
     "output_type": "execute_result"
    }
   ],
   "source": [
    "await web_access_server.call_tool(\n",
    "    \"search\",\n",
    "    dict(query=\"What is a cat?\"),\n",
    "    None,\n",
    "    None\n",
    ")"
   ]
  },
  {
   "cell_type": "code",
   "execution_count": 6,
   "id": "023e3398-ed07-4560-ac6d-9896616cc877",
   "metadata": {},
   "outputs": [
    {
     "data": {
      "text/plain": [
       "{'text': \"A puppy is a juvenile dog, generally one less than 12-18 months old. Puppies are born underdeveloped and dependent on their mothers, but they grow quickly and begin walking after birth. They typically weigh 8–16 oz (0.23–0.45 kg) shortly after birth. A puppy's coat color may change as they grow older, and the term 'puppy' refers specifically to young dogs, while 'pup' may refer to young animals of other species.\",\n",
       " 'is_relevant': True}"
      ]
     },
     "execution_count": 6,
     "metadata": {},
     "output_type": "execute_result"
    }
   ],
   "source": [
    "await web_access_server.call_tool(\n",
    "    \"read\",\n",
    "    dict(query=\"What is a cat?\", url=\"https://en.wikipedia.org/wiki/Puppy\"),\n",
    "    None,\n",
    "    None\n",
    ")"
   ]
  }
 ],
 "metadata": {
  "kernelspec": {
   "display_name": "Python 3 (ipykernel)",
   "language": "python",
   "name": "python3"
  },
  "language_info": {
   "codemirror_mode": {
    "name": "ipython",
    "version": 3
   },
   "file_extension": ".py",
   "mimetype": "text/x-python",
   "name": "python",
   "nbconvert_exporter": "python",
   "pygments_lexer": "ipython3",
   "version": "3.12.7"
  }
 },
 "nbformat": 4,
 "nbformat_minor": 5
}
