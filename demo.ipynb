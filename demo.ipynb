{
 "cells": [
  {
   "cell_type": "code",
   "execution_count": null,
   "id": "57fdc27b-1937-42ed-b52c-a7ff0387db1a",
   "metadata": {},
   "outputs": [],
   "source": [
    "import nest_asyncio\n",
    "\n",
    "nest_asyncio.apply()"
   ]
  },
  {
   "cell_type": "code",
   "execution_count": null,
   "id": "536391e4-6516-40a4-9484-cea353960cf2",
   "metadata": {
    "scrolled": true
   },
   "outputs": [],
   "source": [
    "import os\n",
    "import requests_cache\n",
    "\n",
    "from dataclasses import dataclass\n",
    "from pydantic import BaseModel, Field\n",
    "from pydantic_ai import RunContext\n",
    "from pydantic_ai import Agent, ToolOutput\n",
    "from pydantic_ai.mcp import MCPServerStdio\n",
    "from pydantic_ai.messages import ModelRequest, UserPromptPart\n",
    "from pydantic_ai.models.openai import ModelRequestParameters, OpenAIModel, OpenAIModelSettings\n",
    "from pydantic_ai.providers.openai import OpenAIProvider\n",
    "from typing import List\n",
    "\n",
    "\n",
    "model = OpenAIModel(\n",
    "    'Qwen/Qwen3-8B-FP8',\n",
    "    provider=OpenAIProvider(\n",
    "        base_url='http://localhost:8000/v1', api_key=os.getenv(\"VLLM_API_KEY\")\n",
    "    ),\n",
    ")\n",
    "\n",
    "model.model_name"
   ]
  },
  {
   "cell_type": "code",
   "execution_count": null,
   "id": "4188d0df-35e0-4f80-b67e-dbcee5e65ccd",
   "metadata": {
    "scrolled": true
   },
   "outputs": [],
   "source": [
    "class Answer(BaseModel):  \n",
    "    answer: str | int | float\n",
    "    \n",
    "\n",
    "web_access_server = MCPServerStdio(  \n",
    "    'uv',\n",
    "    args=[\n",
    "        'run',\n",
    "        'mcp',\n",
    "        'run',\n",
    "        '-t',\n",
    "        'stdio',\n",
    "        'web_access_mcp_server.py',\n",
    "    ],\n",
    "    env={\n",
    "        \"SERPER_API_TOKEN\": os.getenv(\"SERPER_API_TOKEN\"),\n",
    "        \"LLM_API_KEY\": os.getenv(\"VLLM_API_KEY\")\n",
    "    },\n",
    ")\n",
    "\n",
    "python_server = MCPServerStdio(  \n",
    "    'deno',\n",
    "    args=[\n",
    "        'run',\n",
    "        '-N',\n",
    "        '-R=node_modules',\n",
    "        '-W=node_modules',\n",
    "        '--node-modules-dir=auto',\n",
    "        'jsr:@pydantic/mcp-run-python',\n",
    "        'stdio',\n",
    "    ],\n",
    ")\n",
    "\n",
    "\n",
    "instructions = (\n",
    "    \"You are a helpful assistant.\"\n",
    "    \"\\n\\n\"\n",
    "    \"Don't do math calculations yourself!!! \"\n",
    "    \"Always use a Python tool to do math calculations.\"\n",
    "    \"\\n\\n\"\n",
    "    \"You can search the internet information. \"\n",
    "    \"First, search for links or papers that might be relevant to your task. \"\n",
    "    \"Then read a link or paper that fits the query. \"\n",
    "    \"However, don't read anything that is homework or a dataset. \"\n",
    "    \"Stop reading once you have found the requested information. \"\n",
    "    \"If the links don't seem promising, search again with a different query. \"\n",
    "    \"You do not have the ability to watch videos, so if you are asked to find information on a video platform, read the video description for clues.\"\n",
    ")\n",
    "      \n",
    "agent = Agent(\n",
    "    model,\n",
    "    model_settings=OpenAIModelSettings(parallel_tool_calls=False, temperature=0),\n",
    "    output_type=ToolOutput(Answer, name=\"final_answer\", description=\"Call this tool once you've completed your task.\"),\n",
    "    instructions=instructions,\n",
    "    toolsets=[python_server, web_access_server],\n",
    ")"
   ]
  },
  {
   "cell_type": "code",
   "execution_count": null,
   "id": "bc969f14-c91d-4252-805f-e2343966258b",
   "metadata": {
    "scrolled": true
   },
   "outputs": [],
   "source": [
    "nodes = []\n",
    "# Begin an AgentRun, which is an async-iterable over the nodes of the agent's graph\n",
    "async with agent.iter(\"Where can I get good food in San Francisco? Please read the reviews to be sure.\") as agent_run:\n",
    "    async for node in agent_run:\n",
    "        # Each node represents a step in the agent's execution\n",
    "        nodes.append(node)\n",
    "        print(node, end=\"\\n\\n\")"
   ]
  },
  {
   "cell_type": "code",
   "execution_count": null,
   "id": "78881f39-e026-440a-bb9d-56ca3ecbace0",
   "metadata": {},
   "outputs": [],
   "source": [
    "print(nodes[-1].data.output.answer)"
   ]
  }
 ],
 "metadata": {
  "kernelspec": {
   "display_name": "Python 3 (ipykernel)",
   "language": "python",
   "name": "python3"
  },
  "language_info": {
   "codemirror_mode": {
    "name": "ipython",
    "version": 3
   },
   "file_extension": ".py",
   "mimetype": "text/x-python",
   "name": "python",
   "nbconvert_exporter": "python",
   "pygments_lexer": "ipython3",
   "version": "3.12.7"
  }
 },
 "nbformat": 4,
 "nbformat_minor": 5
}
