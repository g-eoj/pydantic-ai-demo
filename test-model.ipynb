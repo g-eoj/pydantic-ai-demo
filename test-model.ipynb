{
 "cells": [
  {
   "cell_type": "code",
   "execution_count": 2,
   "id": "57fdc27b-1937-42ed-b52c-a7ff0387db1a",
   "metadata": {},
   "outputs": [],
   "source": [
    "import nest_asyncio\n",
    "\n",
    "nest_asyncio.apply()"
   ]
  },
  {
   "cell_type": "code",
   "execution_count": 3,
   "id": "536391e4-6516-40a4-9484-cea353960cf2",
   "metadata": {
    "scrolled": true
   },
   "outputs": [
    {
     "data": {
      "text/plain": [
       "'default'"
      ]
     },
     "execution_count": 3,
     "metadata": {},
     "output_type": "execute_result"
    }
   ],
   "source": [
    "import os\n",
    "\n",
    "from pydantic_ai.mcp import MCPServerStdio\n",
    "from pydantic_ai.messages import ModelRequest, UserPromptPart\n",
    "from pydantic_ai.models.openai import ModelRequestParameters, OpenAIModel, OpenAIModelSettings\n",
    "from pydantic_ai.providers.openai import OpenAIProvider\n",
    "\n",
    "\n",
    "model = OpenAIModel(\n",
    "    'default',\n",
    "    provider=OpenAIProvider(\n",
    "        base_url='http://localhost:1234/v1', api_key=os.getenv(\"VLLM_API_KEY\")\n",
    "    ),\n",
    ")\n",
    "\n",
    "model.model_name"
   ]
  },
  {
   "cell_type": "code",
   "execution_count": 4,
   "id": "41a47706-7c5f-4dde-b013-016ad1d22995",
   "metadata": {
    "scrolled": true
   },
   "outputs": [
    {
     "data": {
      "text/plain": [
       "'\\n\\nThe sum of 2 and 2 is calculated by combining the quantities of both numbers. \\n\\n**Step-by-Step Explanation:**\\n1. Start with the number 2.\\n2. Add another 2 to it.\\n3. The result of combining these two quantities is 4.\\n\\n**Answer:**  \\n$ 2 + 2 = 4 $'"
      ]
     },
     "execution_count": 4,
     "metadata": {},
     "output_type": "execute_result"
    }
   ],
   "source": [
    "response = await model.request(\n",
    "    messages=[\n",
    "        ModelRequest(\n",
    "            parts=[\n",
    "                UserPromptPart(content='What is 2+2?')\n",
    "            ]\n",
    "        )\n",
    "    ], \n",
    "    model_settings=OpenAIModelSettings(), \n",
    "    model_request_parameters=ModelRequestParameters()\n",
    ")\n",
    "\n",
    "# -1 gets non-thinking content\n",
    "response.parts[-1].content"
   ]
  },
  {
   "cell_type": "code",
   "execution_count": null,
   "id": "c498ae3b-88a6-45f4-b2f6-803d377628e9",
   "metadata": {},
   "outputs": [
    {
     "name": "stdout",
     "output_type": "stream",
     "text": [
      "\n",
      "Okay, the user asked, \"What is 2+2?\" That's a pretty straightforward math question. Let me make sure I understand what they're asking. They want to know the sum of 2 and 2. \n",
      "\n",
      "First, I should recall the basic arithmetic. In mathematics, addition is one of the fundamental operations. When you add two numbers, you're combining their quantities. So, 2 + 2 means combining two groups of two items each.\n",
      "\n",
      "Let me visualize it. If I have two apples and then add another two apples, how many apples do I have in total? Let's count. One apple, two apples, three apples, four apples. Wait, that's four apples. So, 2 + 2 equals 4.\n",
      "\n",
      "But maybe I should check another way to be thorough. Using number lines, if I start at 2 and move two steps to the right, I land on 4. That also gives me 4. \n",
      "\n",
      "Another method is using fingers. If I raise two fingers on one hand and two on the other, that's four fingers in total. Yep, that works. \n",
      "\n",
      "I could also think of it in terms of tally marks. Two vertical lines for the first 2, and two more for the second 2. Counting them all together, that's four. \n",
      "\n",
      "Wait, is there any chance that the user"
     ]
    }
   ],
   "source": [
    "async with model.request_stream(\n",
    "    messages=[\n",
    "        ModelRequest(\n",
    "            parts=[\n",
    "                UserPromptPart(content='What is 2+2?')\n",
    "            ]\n",
    "        )\n",
    "    ], \n",
    "    model_settings=OpenAIModelSettings(), \n",
    "    model_request_parameters=ModelRequestParameters()\n",
    ") as messages:\n",
    "    async for message in messages:\n",
    "        if hasattr(message, \"delta\"):\n",
    "            print(message.delta.content_delta, end=\"\", flush=True)"
   ]
  }
 ],
 "metadata": {
  "kernelspec": {
   "display_name": "Python 3 (ipykernel)",
   "language": "python",
   "name": "python3"
  },
  "language_info": {
   "codemirror_mode": {
    "name": "ipython",
    "version": 3
   },
   "file_extension": ".py",
   "mimetype": "text/x-python",
   "name": "python",
   "nbconvert_exporter": "python",
   "pygments_lexer": "ipython3",
   "version": "3.12.7"
  }
 },
 "nbformat": 4,
 "nbformat_minor": 5
}
